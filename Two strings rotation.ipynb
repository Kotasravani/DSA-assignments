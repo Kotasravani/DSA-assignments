{
 "cells": [
  {
   "cell_type": "code",
   "execution_count": 2,
   "id": "8081f256",
   "metadata": {},
   "outputs": [
    {
     "name": "stdout",
     "output_type": "stream",
     "text": [
      "Enter the first string:cat\n",
      "Enter the second string:tac\n",
      "string is rotational\n"
     ]
    }
   ],
   "source": [
    "str1 = input(\"Enter the first string:\")\n",
    "str2 = input(\"Enter the second string:\")\n",
    "if (sorted(str1)== sorted(str2)):\n",
    "    print(\"string is rotational\")\n",
    "else:\n",
    "    print(\"string is not rotational\")\n"
   ]
  }
 ],
 "metadata": {
  "kernelspec": {
   "display_name": "Python 3 (ipykernel)",
   "language": "python",
   "name": "python3"
  },
  "language_info": {
   "codemirror_mode": {
    "name": "ipython",
    "version": 3
   },
   "file_extension": ".py",
   "mimetype": "text/x-python",
   "name": "python",
   "nbconvert_exporter": "python",
   "pygments_lexer": "ipython3",
   "version": "3.9.7"
  }
 },
 "nbformat": 4,
 "nbformat_minor": 5
}

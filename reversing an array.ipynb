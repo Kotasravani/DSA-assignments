{
 "cells": [
  {
   "cell_type": "code",
   "execution_count": 1,
   "id": "2e6690b4",
   "metadata": {},
   "outputs": [
    {
     "name": "stdout",
     "output_type": "stream",
     "text": [
      "ENTER ARRAY SIZE: 2\n",
      "ENTER THE ELEMENTS: \n",
      "3\n",
      "7\n",
      "THE REVERSED ARRAY IS: \n",
      "7\n",
      "3\n"
     ]
    }
   ],
   "source": [
    "size=int(input(\"ENTER ARRAY SIZE: \"))\n",
    "arr=[]\n",
    "print(\"ENTER THE ELEMENTS: \")\n",
    "for i in range(size):\n",
    "    element=int(input())\n",
    "    arr.append(element)\n",
    "print(\"THE REVERSED ARRAY IS: \",*arr[::-1],sep=\"\\n\") "
   ]
  }
 ],
 "metadata": {
  "kernelspec": {
   "display_name": "Python 3 (ipykernel)",
   "language": "python",
   "name": "python3"
  },
  "language_info": {
   "codemirror_mode": {
    "name": "ipython",
    "version": 3
   },
   "file_extension": ".py",
   "mimetype": "text/x-python",
   "name": "python",
   "nbconvert_exporter": "python",
   "pygments_lexer": "ipython3",
   "version": "3.9.7"
  }
 },
 "nbformat": 4,
 "nbformat_minor": 5
}

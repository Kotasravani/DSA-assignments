{
 "cells": [
  {
   "cell_type": "code",
   "execution_count": null,
   "id": "97a1717d",
   "metadata": {},
   "outputs": [],
   "source": [
    "str=input(\"Enter Your String:\")\n",
    "arr=[0]*256\n",
    "for i in range(len(str)):\n",
    "    if str[i]!=' ':\n",
    "        num=ord(str[i])\n",
    "        arr[num]+=1\n",
    "ch=' '\n",
    "print(\"First Non-repeating character in a given string is: \",end=\"\")\n",
    "for i in range(len(str)):\n",
    "    if arr[ord(str[i])] ==1:\n",
    "        ch=str[i]\n",
    "        break\n",
    "print(ch,end=\"\")"
   ]
  }
 ],
 "metadata": {
  "kernelspec": {
   "display_name": "Python 3 (ipykernel)",
   "language": "python",
   "name": "python3"
  },
  "language_info": {
   "codemirror_mode": {
    "name": "ipython",
    "version": 3
   },
   "file_extension": ".py",
   "mimetype": "text/x-python",
   "name": "python",
   "nbconvert_exporter": "python",
   "pygments_lexer": "ipython3",
   "version": "3.9.7"
  }
 },
 "nbformat": 4,
 "nbformat_minor": 5
}
